{
 "cells": [
  {
   "cell_type": "code",
   "execution_count": null,
   "metadata": {
    "collapsed": true
   },
   "outputs": [],
   "source": [
    "from sys import exit\n",
    "\n",
    "from random import randint\n",
    "\n",
    "class Scene(object):\n",
    "    \n",
    "    def enter(self):\n",
    "        print ('this scene is not yet configured.Subclass it and implement enter().')\n",
    "        exit(1)\n",
    "        \n",
    "        \n",
    "class Engine(object):\n",
    "    \n",
    "    def __init__(self,scene_map):\n",
    "        self.scene_map= scene_map\n",
    "        \n",
    "    def play(self):\n",
    "        current_scene= self.scene_map.opening_scene()\n",
    "        \n",
    "        while True:\n",
    "            print (\"\\n------\")\n",
    "            next_scene_name= current_scene.enter()\n",
    "            current_scene =self.scene_map.next_scene(next_scene_name)\n",
    "\n",
    "class Death(Scene):\n",
    "    \n",
    "    quips =[\n",
    "        \"You died.You kinda suck at this.\",\n",
    "        \n",
    "        \n",
    "    "
   ]
  }
 ],
 "metadata": {
  "kernelspec": {
   "display_name": "Python 3",
   "language": "python",
   "name": "python3"
  },
  "language_info": {
   "codemirror_mode": {
    "name": "ipython",
    "version": 3
   },
   "file_extension": ".py",
   "mimetype": "text/x-python",
   "name": "python",
   "nbconvert_exporter": "python",
   "pygments_lexer": "ipython3",
   "version": "3.4.3"
  }
 },
 "nbformat": 4,
 "nbformat_minor": 2
}
