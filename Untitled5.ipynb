{
 "cells": [
  {
   "cell_type": "code",
   "execution_count": 1,
   "metadata": {},
   "outputs": [
    {
     "name": "stdout",
     "output_type": "stream",
     "text": [
      "0\n",
      "1\n",
      "2\n",
      "3\n",
      "4\n",
      "5\n",
      "6\n",
      "7\n",
      "8\n",
      "9\n"
     ]
    }
   ],
   "source": [
    "for i in range(10):\n",
    "    print(i)"
   ]
  },
  {
   "cell_type": "code",
   "execution_count": 3,
   "metadata": {},
   "outputs": [
    {
     "name": "stdout",
     "output_type": "stream",
     "text": [
      "Down!\n",
      "Up!\n",
      "2\n",
      "Down!\n",
      "Up!\n",
      "3\n",
      "Down!\n",
      "Up!\n",
      "4\n",
      "Down!\n",
      "Up!\n",
      "5\n",
      "Down!\n",
      "Up!\n",
      "6\n",
      "Down!\n",
      "Up!\n",
      "7\n",
      "Down!\n",
      "Up!\n",
      "8\n",
      "Down!\n",
      "Up!\n",
      "9\n",
      "Down!\n",
      "Up!\n",
      "10\n",
      "Down!\n",
      "Up!\n",
      "11\n",
      "Down!\n",
      "Up!\n",
      "12\n",
      "Down!\n",
      "Up!\n",
      "13\n",
      "Down!\n",
      "Up!\n",
      "14\n",
      "Down!\n",
      "Up!\n",
      "15\n",
      "Down!\n",
      "Up!\n",
      "16\n",
      "Down!\n",
      "Up!\n",
      "17\n",
      "Down!\n",
      "Up!\n",
      "18\n",
      "Down!\n",
      "Up!\n",
      "19\n",
      "Down!\n",
      "Up!\n",
      "20\n",
      "Down!\n",
      "Up!\n"
     ]
    },
    {
     "ename": "IndexError",
     "evalue": "range object index out of range",
     "output_type": "error",
     "traceback": [
      "\u001b[0;31m---------------------------------------------------------------------------\u001b[0m",
      "\u001b[0;31mIndexError\u001b[0m                                Traceback (most recent call last)",
      "\u001b[0;32m<ipython-input-3-45a0a5b095d4>\u001b[0m in \u001b[0;36m<module>\u001b[0;34m()\u001b[0m\n\u001b[1;32m      6\u001b[0m     \u001b[0mprint\u001b[0m\u001b[0;34m(\u001b[0m\u001b[0;34m\"Up!\"\u001b[0m\u001b[0;34m)\u001b[0m\u001b[0;34m\u001b[0m\u001b[0m\n\u001b[1;32m      7\u001b[0m     \u001b[0mcount\u001b[0m \u001b[0;34m+=\u001b[0m\u001b[0;36m1\u001b[0m\u001b[0;34m\u001b[0m\u001b[0m\n\u001b[0;32m----> 8\u001b[0;31m     \u001b[0mprint\u001b[0m\u001b[0;34m(\u001b[0m\u001b[0mstr\u001b[0m\u001b[0;34m(\u001b[0m\u001b[0mrange\u001b[0m\u001b[0;34m(\u001b[0m\u001b[0;36m1\u001b[0m\u001b[0;34m,\u001b[0m\u001b[0;36m21\u001b[0m\u001b[0;34m)\u001b[0m\u001b[0;34m[\u001b[0m\u001b[0mcount\u001b[0m\u001b[0;34m]\u001b[0m\u001b[0;34m)\u001b[0m\u001b[0;34m)\u001b[0m\u001b[0;34m\u001b[0m\u001b[0m\n\u001b[0m\u001b[1;32m      9\u001b[0m     \u001b[0mprint\u001b[0m\u001b[0;34m\u001b[0m\u001b[0m\n",
      "\u001b[0;31mIndexError\u001b[0m: range object index out of range"
     ]
    }
   ],
   "source": [
    "\n",
    "count =0\n",
    "\n",
    "while count < 21:\n",
    "    print(\"Down!\")\n",
    "    print(\"Up!\")\n",
    "    count +=1\n",
    "    print(str(range(1,21)[count]))\n",
    "    print"
   ]
  }
 ],
 "metadata": {
  "kernelspec": {
   "display_name": "Python 3",
   "language": "python",
   "name": "python3"
  },
  "language_info": {
   "codemirror_mode": {
    "name": "ipython",
    "version": 3
   },
   "file_extension": ".py",
   "mimetype": "text/x-python",
   "name": "python",
   "nbconvert_exporter": "python",
   "pygments_lexer": "ipython3",
   "version": "3.4.3"
  }
 },
 "nbformat": 4,
 "nbformat_minor": 2
}
