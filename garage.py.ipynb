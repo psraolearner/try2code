{
 "cells": [
  {
   "cell_type": "code",
   "execution_count": 2,
   "metadata": {},
   "outputs": [
    {
     "name": "stdout",
     "output_type": "stream",
     "text": [
      "Porsche\n",
      "BMW\n",
      "Ferrari\n",
      "Bugati\n",
      "Ford\n",
      "Jaguar\n"
     ]
    }
   ],
   "source": [
    "Garage = \"Porsche\",\"BMW\",\"Ferrari\",\"Bugati\",\"Ford\",\"Jaguar\"\n",
    " \n",
    "for each_car in Garage:\n",
    "    print(each_car)"
   ]
  },
  {
   "cell_type": "code",
   "execution_count": 11,
   "metadata": {},
   "outputs": [
    {
     "name": "stdout",
     "output_type": "stream",
     "text": [
      "porsche\n",
      "bmw\n",
      "ferrari\n",
      "bugati\n",
      "ford\n",
      "jaguar\n"
     ]
    }
   ],
   "source": [
    "garage = \"porsche\",\"bmw\",\"ferrari\",\"bugati\",\"ford\",\"jaguar\"\n",
    "for each_car in garage: \n",
    "     print(each_car)\n",
    "    "
   ]
  },
  {
   "cell_type": "code",
   "execution_count": null,
   "metadata": {
    "collapsed": true
   },
   "outputs": [],
   "source": []
  }
 ],
 "metadata": {
  "kernelspec": {
   "display_name": "Python 3",
   "language": "python",
   "name": "python3"
  },
  "language_info": {
   "codemirror_mode": {
    "name": "ipython",
    "version": 3
   },
   "file_extension": ".py",
   "mimetype": "text/x-python",
   "name": "python",
   "nbconvert_exporter": "python",
   "pygments_lexer": "ipython3",
   "version": "3.4.3"
  }
 },
 "nbformat": 4,
 "nbformat_minor": 2
}
