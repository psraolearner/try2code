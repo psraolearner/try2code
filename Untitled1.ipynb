{
 "cells": [
  {
   "cell_type": "code",
   "execution_count": 12,
   "metadata": {},
   "outputs": [
    {
     "name": "stdout",
     "output_type": "stream",
     "text": [
      "Happy birthday to you\n",
      "I don'want to get sued\n",
      "So,I' stop right there\n",
      "They rally around the family\n",
      "With pockets full of shells\n"
     ]
    }
   ],
   "source": [
    "class Song:\n",
    "    def __init__(self, lyrics):\n",
    "        self.lyrics = lyrics\n",
    "        \n",
    "    def sing_me_a_song(self):\n",
    "        for line in self.lyrics:\n",
    "            print (line)\n",
    "            \n",
    "happy_bday = Song([\"Happy birthday to you\",\n",
    "                  \"I don\\'want to get sued\",\n",
    "                  \"So,I\\' stop right there\"])\n",
    "\n",
    "bulls_on_parade = Song([\"They rally around the family\",\n",
    "                      \"With pockets full of shells\"])\n",
    "\n",
    "happy_bday.sing_me_a_song()\n",
    "\n",
    "bulls_on_parade.sing_me_a_song()"
   ]
  },
  {
   "cell_type": "code",
   "execution_count": 37,
   "metadata": {},
   "outputs": [
    {
     "ename": "NameError",
     "evalue": "name 'i' is not defined",
     "output_type": "error",
     "traceback": [
      "\u001b[0;31m---------------------------------------------------------------------------\u001b[0m",
      "\u001b[0;31mNameError\u001b[0m                                 Traceback (most recent call last)",
      "\u001b[0;32m<ipython-input-37-d29395167647>\u001b[0m in \u001b[0;36m<module>\u001b[0;34m()\u001b[0m\n\u001b[1;32m     64\u001b[0m \u001b[0;32mtry\u001b[0m\u001b[0;34m:\u001b[0m\u001b[0;34m\u001b[0m\u001b[0m\n\u001b[1;32m     65\u001b[0m     \u001b[0;32mwhile\u001b[0m \u001b[0;32mTrue\u001b[0m\u001b[0;34m:\u001b[0m\u001b[0;34m\u001b[0m\u001b[0m\n\u001b[0;32m---> 66\u001b[0;31m         \u001b[0msnippets\u001b[0m \u001b[0;34m=\u001b[0m \u001b[0;34m(\u001b[0m\u001b[0mPHRASES\u001b[0m\u001b[0;34m.\u001b[0m\u001b[0mkeys\u001b[0m\u001b[0;34m(\u001b[0m\u001b[0;34m)\u001b[0m\u001b[0;34m[\u001b[0m\u001b[0mi\u001b[0m\u001b[0;34m]\u001b[0m\u001b[0;34m)\u001b[0m\u001b[0;34m\u001b[0m\u001b[0m\n\u001b[0m\u001b[1;32m     67\u001b[0m         \u001b[0mrandom\u001b[0m\u001b[0;34m.\u001b[0m\u001b[0mshuffle\u001b[0m\u001b[0;34m(\u001b[0m\u001b[0msnippets\u001b[0m\u001b[0;34m)\u001b[0m\u001b[0;34m\u001b[0m\u001b[0m\n\u001b[1;32m     68\u001b[0m \u001b[0;34m\u001b[0m\u001b[0m\n",
      "\u001b[0;31mNameError\u001b[0m: name 'i' is not defined"
     ]
    }
   ],
   "source": [
    "import random\n",
    "from urllib.request import urlopen\n",
    "import sys\n",
    "\n",
    "WORD_URL = \"http://learncodethehardway.org/words.txt\"\n",
    "WORDS =[]\n",
    "\n",
    "PHRASES = {\n",
    "    \"class %%%(%%%):\":\n",
    "      \"Make a class named %%% that is-a %%%.\",\n",
    "    \"class %%%(object):\\n\\tdef __init__(self,***)\":\n",
    "      \"class  %%% has-a __init__that takes self and *** parameters.\",\n",
    "    \"class %%%(object):\\n\\tdef *** (self, @@@)\":\n",
    "      \"class %%% has-a function named *** that takes self and @@@ parameters.\",\n",
    "    \"*** = %%%()\":\n",
    "      \"Set *** to an instance of class %%%.\",\n",
    "    \"***.***(@@@)\":\n",
    "      \"From *** get the *** function, and call it with parameters self, @@@.\",\n",
    "    \"***.*** = '***'\":\n",
    "      \"From *** get the *** attribute and set it to '***'.\"\n",
    "}\n",
    "\n",
    "#do they want to drill phrases first\n",
    "PHRASE_FIRST = False\n",
    "\n",
    "if len(sys.argv) == 2 and sys.argv[1] == \"english\":\n",
    "    PHRASE_FIRST = True\n",
    "    \n",
    "#load up the words from the website\n",
    "for word in urlopen(WORD_URL).readlines():\n",
    "    WORDS.append(word.strip())\n",
    "\n",
    "def convert(snippet,phrase):\n",
    "    class_names = [w.capitalize() for w in\n",
    "                  random.sample(WORDS,snippet.count(\"%%%\"))]\n",
    "    other_names = random.sample(WORDS,snippet.count(\"***\"))\n",
    "    results = []\n",
    "    param_names = []\n",
    "    \n",
    "    for i in range(0,snippet.count(\"@@@\")):\n",
    "        param_count = random.randint(1,3)\n",
    "        param_names.append(', '.join(random.sample(WORDS, param_count)))\n",
    "        \n",
    "    for sentence in snippet, phrase:\n",
    "        result = sentence[:]\n",
    "        \n",
    "#fake class names\n",
    "        for word in class_names:\n",
    "           result = result.replace(\"%%%\",word,1)\n",
    "        \n",
    "# fake other names\n",
    "        for word in other_names:\n",
    "           result =result.replace(\"***\",word, 1)\n",
    "        \n",
    "#fake parameter lists\n",
    "        for word in param_names:\n",
    "            result = result.replace(\"@@@\",word, 1)\n",
    "        \n",
    "        results.append(result)\n",
    "        \n",
    "    return results \n",
    "\n",
    "#keep going until they hit CTRL-D\n",
    "try:\n",
    "    while True:\n",
    "        snippets = (PHRASES.keys()[1])\n",
    "        random.shuffle(snippets)\n",
    "        \n",
    "        for snippet in snippets:\n",
    "            phrase = PHRASES[snippet]\n",
    "            question, answer = convert(snippet,phrase)\n",
    "            \n",
    "            if PHRASE_FIRST:\n",
    "                question, answer = answer,question\n",
    "                \n",
    "            print (question)\n",
    "            \n",
    "            raw_input(\">> \")\n",
    "            print (\"ANSWER:  %s \\n\\n\") % answer\n",
    "\n",
    "            \n",
    "except EOFError:\n",
    "    print (\"\\nBye\")\n",
    "\n"
   ]
  },
  {
   "cell_type": "code",
   "execution_count": null,
   "metadata": {
    "collapsed": true
   },
   "outputs": [],
   "source": []
  }
 ],
 "metadata": {
  "kernelspec": {
   "display_name": "Python 3",
   "language": "python",
   "name": "python3"
  },
  "language_info": {
   "codemirror_mode": {
    "name": "ipython",
    "version": 3
   },
   "file_extension": ".py",
   "mimetype": "text/x-python",
   "name": "python",
   "nbconvert_exporter": "python",
   "pygments_lexer": "ipython3",
   "version": "3.4.3"
  }
 },
 "nbformat": 4,
 "nbformat_minor": 2
}
